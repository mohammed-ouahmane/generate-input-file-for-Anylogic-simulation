{
 "cells": [
  {
   "cell_type": "markdown",
   "id": "5f95740f-cae2-4bca-ad98-85f94c6759fb",
   "metadata": {},
   "source": [
    "# notebook to generate inputs for EMSE Anylogic simulation"
   ]
  },
  {
   "cell_type": "code",
   "execution_count": 1,
   "id": "664bb5cc-a582-49a1-8c37-6958654bff31",
   "metadata": {},
   "outputs": [],
   "source": [
    "# objective: we want to have a table with one row per order, and first 4 columns contain the station number for each stop (up to 4 stops, and 0 means there is )\n",
    "# no stop). Then a column with interarrival time (in seconds), then 48 columns (one per station), with the processing time for that station. "
   ]
  },
  {
   "cell_type": "code",
   "execution_count": 19,
   "id": "49345de3-4580-4229-a35b-c1992abe0dcf",
   "metadata": {},
   "outputs": [],
   "source": [
    "#1- let's generate a table with 1000 orders\n",
    "import pandas as pd\n",
    "import numpy as np\n",
    "\n",
    "def assign_next_stop(x,previous_stop_name,nb_stations): \n",
    "    next_stop=0\n",
    "    if 0<x[previous_stop_name] < nb_stations: \n",
    "        next_stop = np.minimum(np.random.randint(x[previous_stop_name]+1,nb_stations+1,1)[0],np.random.randint(x[previous_stop_name]+1,nb_stations+1,1)[0])\n",
    "    return next_stop\n"
   ]
  },
  {
   "cell_type": "code",
   "execution_count": 20,
   "id": "e347ca45-39c5-4087-89d8-3e13352ce7d5",
   "metadata": {},
   "outputs": [],
   "source": [
    "nb_stations = 6\n",
    "nb_boxes = 1000\n",
    "#create 1000 boxes\n",
    "df = pd.DataFrame({'box':np.arange(1,nb_boxes+1)})\n",
    "#assign stations to each stop\n",
    "df['stop1']=np.minimum(np.random.randint(1,nb_stations,nb_boxes),np.random.randint(1,nb_stations,nb_boxes))\n",
    "df['stop2']=df.apply(lambda x: assign_next_stop(x,'stop1',nb_stations=nb_stations), axis=1)\n",
    "df['stop3']=df.apply(lambda x: assign_next_stop(x,'stop2',nb_stations=nb_stations), axis=1)\n",
    "df['stop4']=df.apply(lambda x: assign_next_stop(x,'stop3',nb_stations=nb_stations), axis=1)\n",
    "#define interarrival time\n",
    "df['interarrival time'] = np.random.randint(1,10,nb_boxes)"
   ]
  },
  {
   "cell_type": "code",
   "execution_count": 21,
   "id": "36ef94e7-4cf2-488a-8765-cc97aa66e3e6",
   "metadata": {},
   "outputs": [],
   "source": [
    "#now creating N columns with random process times between 1 and 10 seconds\n",
    "#we need to create a table with 1000 boxes, and for each box as many rows as stations\n",
    "df_process_times = pd.DataFrame({'box':np.arange(1,nb_boxes+1)})\n",
    "df_process_times['dummy_merge']=1\n",
    "df_stations = pd.DataFrame({'station_num':np.arange(1,nb_stations+1)})\n",
    "#df_stations['station_num'] = df_stations['station_num']\n",
    "df_stations['dummy_merge']=1\n",
    "#we use a dummy merge to merge all boxes to all stations\n",
    "df_station_process_time = df_process_times.merge(df_stations,on='dummy_merge')\n",
    "#and generate our process times\n",
    "df_station_process_time['process_time']=np.random.randint(1,10,nb_stations*nb_boxes)\n",
    "#then before putting all rows as columns, we create the column names\n",
    "df_station_process_time['station_name'] = 'Station'+df_station_process_time['station_num'].astype(str).str.zfill(2)+'_time'\n",
    "#and finally we pivot all rows into columns\n",
    "df_station_process_time['station_num'] = df_station_process_time['station_num'].astype(int)"
   ]
  },
  {
   "cell_type": "code",
   "execution_count": 22,
   "id": "c103c594-5b4b-49df-bf6e-6364930d532b",
   "metadata": {},
   "outputs": [],
   "source": [
    "#a bit of reshaping magic\n",
    "df3 = df[['box','stop1','stop2','stop3','stop4']].melt(id_vars='box').rename(columns={'variable':'stop_number','value':'station_num'}).sort_values('box')\n",
    "df4 = df3.merge(df_station_process_time,on=['box','station_num']).rename(columns={'stop_number':'stop_name'})\n",
    "df4 = df4.merge(pd.DataFrame({'stop_name':['stop1','stop2','stop3','stop4'],'stop_number':[1,2,3,4]})).sort_values(['box','stop_number'])"
   ]
  },
  {
   "cell_type": "code",
   "execution_count": 23,
   "id": "04008ece-0ede-4664-ac6b-e7be5be6d022",
   "metadata": {},
   "outputs": [],
   "source": [
    "#final output shaping\n",
    "df_simulation_input_format1 = df.merge(df4.pivot(index='box', columns='station_name', values='process_time').reset_index().fillna(0),on='box')\n",
    "df_simulation_input_format2 = df4[['box','stop_number','station_num','process_time']]"
   ]
  },
  {
   "cell_type": "code",
   "execution_count": 24,
   "id": "46bc38cd-f5b1-452b-adb0-7ae3c39f145b",
   "metadata": {},
   "outputs": [],
   "source": [
    "df_simulation_input_format1.to_csv('df_simulation_input_format1.csv')\n",
    "df_simulation_input_format2.to_csv('df_simulation_input_format2.csv')"
   ]
  },
  {
   "cell_type": "code",
   "execution_count": null,
   "id": "1b8dcd31-c4b3-4263-b267-576b217e645c",
   "metadata": {},
   "outputs": [],
   "source": []
  }
 ],
 "metadata": {
  "kernelspec": {
   "display_name": "Python 3",
   "language": "python",
   "name": "python3"
  },
  "language_info": {
   "codemirror_mode": {
    "name": "ipython",
    "version": 3
   },
   "file_extension": ".py",
   "mimetype": "text/x-python",
   "name": "python",
   "nbconvert_exporter": "python",
   "pygments_lexer": "ipython3",
   "version": "3.8.8"
  }
 },
 "nbformat": 4,
 "nbformat_minor": 5
}
